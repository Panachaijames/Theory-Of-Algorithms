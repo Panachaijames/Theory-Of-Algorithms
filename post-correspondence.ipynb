{
 "cells": [
  {
   "cell_type": "markdown",
   "metadata": {},
   "source": [
    "## Post Correspondence\n",
    "***"
   ]
  },
  {
   "cell_type": "markdown",
   "metadata": {},
   "source": [
    "### Definition and Explanation"
   ]
  },
  {
   "cell_type": "markdown",
   "metadata": {},
   "source": [
    "The Post correspondence problem ,introduced by Emil Post in 1946, is another\n",
    "undecidable problem that turns out to be a very helpful tool\n",
    "for proving problems in logic or in formal language theory to be\n",
    "undecidable."
   ]
  },
  {
   "cell_type": "markdown",
   "metadata": {},
   "source": [
    "<b> A Definition of the Problem </b>\n",
    "\n",
    "$∑$ is the alphabet with at least two symbols $(M, N)$, the input of each symbol containing of two finite lists of non-empty strings over the alphabet.\n",
    "\n",
    "$M = (x1, x2, x3,………, xn)$\n",
    "\n",
    "$N = (y1, y2, y3,………, yn)$\n",
    "\n",
    "One solution to this very problem is a series of indices $i1,i2,………… ik$, where $1 ≤ i, j ≤ n$, the condition $xi1 …….xik = yi1 …….yik$ satisfies.\n",
    "\n",
    "The decision problem then is to decide whether such a solution exists or not"
   ]
  },
  {
   "cell_type": "markdown",
   "metadata": {},
   "source": [
    "<b> Ways of representing the post correspondence problem"
   ]
  },
  {
   "cell_type": "markdown",
   "metadata": {},
   "source": [
    "<i>PCP represented in Domino's form\n",
    "\n",
    "<img src=\"https://media.geeksforgeeks.org/wp-content/uploads/20200525173708/dominos.jpg\" />"
   ]
  },
  {
   "cell_type": "markdown",
   "metadata": {},
   "source": [
    "<i> PCP represented in Table form\n",
    "    \n",
    "<img src=\"https://media.geeksforgeeks.org/wp-content/uploads/20200525173712/tf.jpg\"/>"
   ]
  },
  {
   "cell_type": "markdown",
   "metadata": {},
   "source": [
    "<b> Undecidability of Post Correspondence Problem </b>\n"
   ]
  },
  {
   "cell_type": "markdown",
   "metadata": {},
   "source": [
    "An undecidable problem is a type of computational problem that requires a yes/no answer, however there cannot possibly be any computer program that always gives the correct answer, any possible program would sometimes give the wrong answer or run forever without giving any answer."
   ]
  },
  {
   "cell_type": "markdown",
   "metadata": {},
   "source": [
    "<b>Proof for the undecidability"
   ]
  },
  {
   "cell_type": "markdown",
   "metadata": {},
   "source": [
    "The most common proof for the undecidability of PCP describes an instance of PCP that can simulate the computation of a Turing machine on a particular input. A match will only occur if the input would be accepted by the Turing machine. Because deciding if a Turing machine will accept an input is a basic undecidable problem, PCP cannot be decidable either."
   ]
  },
  {
   "cell_type": "markdown",
   "metadata": {},
   "source": [
    "<b>Example"
   ]
  },
  {
   "cell_type": "markdown",
   "metadata": {},
   "source": [
    "For the alphabet {0,1}, a typical state might look something like:"
   ]
  },
  {
   "cell_type": "markdown",
   "metadata": {},
   "source": [
    "$101101110q700110$"
   ]
  },
  {
   "cell_type": "markdown",
   "metadata": {},
   "source": [
    "A simple computation history would then look something like this:"
   ]
  },
  {
   "cell_type": "markdown",
   "metadata": {},
   "source": [
    "q0101#1q401#11q21#1q810"
   ]
  },
  {
   "cell_type": "markdown",
   "metadata": {},
   "source": [
    "We start out with this block, where x is the input string and q0 is the start state:"
   ]
  },
  {
   "cell_type": "markdown",
   "metadata": {},
   "source": [
    "<table>\n",
    "  <tr>\n",
    "   <td> </td>\n",
    "   <td>q0x#</td>\n",
    "  </tr>\n",
    "</table>"
   ]
  },
  {
   "cell_type": "markdown",
   "metadata": {},
   "source": [
    "The top starts out \"lagging\" the bottom by one state, and keeps this lag until the very end stage. Next, for each symbol a in the tape alphabet, as well as #, we have a \"copy\" block, which copies it unmodified from one state to the next:"
   ]
  },
  {
   "cell_type": "markdown",
   "metadata": {},
   "source": [
    "<table>\n",
    "  <tr>\n",
    "   <td>a</td>\n",
    "  </tr>\n",
    "    <tr>\n",
    "   <td>a</td>\n",
    "  </tr>\n",
    "</table>"
   ]
  },
  {
   "cell_type": "markdown",
   "metadata": {},
   "source": [
    "We also have a block for each position transition the machine can make, showing how the tape head moves, how the finite state changes, and what happens to the surrounding symbols. For example, here the tape head is over a 0 in state 4, and then writes a 1 and moves right, changing to state 7:"
   ]
  },
  {
   "cell_type": "markdown",
   "metadata": {},
   "source": [
    "<table>\n",
    "  <tr>\n",
    "   <td>q40</td>\n",
    "  </tr>\n",
    "    <tr>\n",
    "   <td>1q7</td>\n",
    "  </tr>\n",
    "</table>"
   ]
  },
  {
   "cell_type": "markdown",
   "metadata": {},
   "source": [
    "Finally, when the top reaches an accepting state, the bottom needs a chance to finally catch up to complete the match. To allow this, we extend the computation so that once an accepting state is reached, each subsequent machine step will cause a symbol near the tape head to vanish, one at a time, until none remain. If qf is an accepting state, we can represent this with the following transition blocks, where a is a tape alphabet symbol:"
   ]
  },
  {
   "cell_type": "markdown",
   "metadata": {},
   "source": [
    "<table>\n",
    "  <tr>\n",
    "   <td>qfa</td>\n",
    "   <td>aqf</td>\n",
    "  </tr>\n",
    "    <tr>\n",
    "   <td>qf</td>\n",
    "   <td>qf</td>\n",
    "  </tr>\n",
    "</table>"
   ]
  },
  {
   "cell_type": "markdown",
   "metadata": {},
   "source": [
    "There are a number of details to work out, such as dealing with boundaries between states, making sure that our initial tile goes first in the match, and so on, but this shows the general idea of how a static tile puzzle can simulate a Turing machine computation."
   ]
  },
  {
   "cell_type": "markdown",
   "metadata": {},
   "source": [
    "### The Problem"
   ]
  },
  {
   "cell_type": "code",
   "execution_count": 33,
   "metadata": {},
   "outputs": [],
   "source": [
    "a = 'a'\n",
    "b = 'b'"
   ]
  },
  {
   "cell_type": "code",
   "execution_count": 34,
   "metadata": {},
   "outputs": [],
   "source": [
    "# First list.\n",
    "L1 = ((a,), (a, b), (b, b, a))"
   ]
  },
  {
   "cell_type": "code",
   "execution_count": 35,
   "metadata": {},
   "outputs": [],
   "source": [
    "# Second list.\n",
    "L2 = ((b, a, a), (a, a), (b, b))"
   ]
  },
  {
   "cell_type": "code",
   "execution_count": 36,
   "metadata": {},
   "outputs": [],
   "source": [
    "# A proposed solution.\n",
    "S = (2, 1, 2, 0)"
   ]
  },
  {
   "cell_type": "code",
   "execution_count": 37,
   "metadata": {},
   "outputs": [],
   "source": [
    "# Apply the proposed solution to a tuple.\n",
    "def apply(S, L):\n",
    "    S_on_L = [''.join(L[i]) for i in S]\n",
    "    return ''.join(S_on_L)"
   ]
  },
  {
   "cell_type": "code",
   "execution_count": 38,
   "metadata": {},
   "outputs": [
    {
     "data": {
      "text/plain": [
       "'bbaabbbaa'"
      ]
     },
     "execution_count": 38,
     "metadata": {},
     "output_type": "execute_result"
    }
   ],
   "source": [
    "apply(S, L1)"
   ]
  },
  {
   "cell_type": "code",
   "execution_count": 39,
   "metadata": {},
   "outputs": [
    {
     "data": {
      "text/plain": [
       "'bbaabbbaa'"
      ]
     },
     "execution_count": 39,
     "metadata": {},
     "output_type": "execute_result"
    }
   ],
   "source": [
    "apply(S, L2)"
   ]
  },
  {
   "cell_type": "markdown",
   "metadata": {},
   "source": [
    "### No correspondence"
   ]
  },
  {
   "cell_type": "code",
   "execution_count": 78,
   "metadata": {},
   "outputs": [],
   "source": [
    "# List 1.\n",
    "L1 = ((a, b), (b, b, a))"
   ]
  },
  {
   "cell_type": "code",
   "execution_count": 79,
   "metadata": {},
   "outputs": [],
   "source": [
    "# List 2.\n",
    "L2 = ((a, a), (b, b))"
   ]
  },
  {
   "cell_type": "markdown",
   "metadata": {},
   "source": [
    "This two list has no corrspondence because solution has infinite length, It could be combined in order to find solution , however, we cannot prove that there is correspondence between them as there is no solution to apply."
   ]
  },
  {
   "cell_type": "markdown",
   "metadata": {},
   "source": [
    "$(L_1,L_2) \\rightarrow \\{True, False\\} \\qquad |L_1| = |L_2|$"
   ]
  },
  {
   "cell_type": "markdown",
   "metadata": {},
   "source": [
    "### Bounded Post Correspondence Problem"
   ]
  },
  {
   "cell_type": "markdown",
   "metadata": {},
   "source": [
    "One of the most important variants of PCP is the bounded Post correspondence problem, which asks if we can find a match using no more than $k$ tiles, including repeated tiles. A brute force search solves the problem in time $O(2k)$, but this may be difficult to improve upon, since the problem is NP-complete. "
   ]
  },
  {
   "cell_type": "markdown",
   "metadata": {},
   "source": [
    "$ |S| \\leq K \\qquad K \\in \\mathbb{N} $"
   ]
  },
  {
   "cell_type": "markdown",
   "metadata": {},
   "source": [
    "Unlike some NP-complete problems like the boolean satisfiability problem, a small variation of the bounded problem was also shown to be complete for RNP, which means that it remains hard even if the inputs are chosen at random (it is hard on average over uniformly distributed inputs)"
   ]
  },
  {
   "cell_type": "markdown",
   "metadata": {},
   "source": [
    "<img src=\"https://camo.githubusercontent.com/345d810d263780741737aed7c7f80387cacd5169b9e29621488704cb0ac7001c/68747470733a2f2f757365722d696d616765732e67697468756275736572636f6e74656e742e636f6d2f35353434363533332f3136353937393339302d35313464376638632d356132662d346430352d626533352d6563343537653361633038372e706e67\"/>"
   ]
  },
  {
   "cell_type": "markdown",
   "metadata": {},
   "source": [
    "### Solving Bounded Post Correspondence Problem"
   ]
  },
  {
   "cell_type": "code",
   "execution_count": 47,
   "metadata": {},
   "outputs": [],
   "source": [
    "from itertools import product as it"
   ]
  },
  {
   "cell_type": "code",
   "execution_count": 88,
   "metadata": {},
   "outputs": [],
   "source": [
    "def cartesian_product(L,K):\n",
    "    L1=[]\n",
    "   #loop through solutions\n",
    "    #Create element for solutions of legth i\n",
    "    for i in range(1, K+1):\n",
    "        for element in it(L, repeat = i):\n",
    "            joined_element =''.join(element)\n",
    "            L1.append(joined_element)\n",
    "    return L1"
   ]
  },
  {
   "cell_type": "code",
   "execution_count": 89,
   "metadata": {},
   "outputs": [],
   "source": [
    "def cartesian(L1,L2,K):\n",
    "    # Check if two lists have the same length\n",
    "    if len(L1) != len(L2):\n",
    "        return False \n",
    "    for array_one, array_two in zip(cartesian_product(L1,K), cartesian_product(L2,K)):\n",
    "        if array_one == array_two:\n",
    "            print(\"{} = {}\".format(L1, L2))\n",
    "            print(\"Solution of max length {} found.\".format(K))\n",
    "            return True\n",
    "    print(\"{} != {}\".format(L1, L2))\n",
    "    print(\"Solution of max length {} not found.\".format(K))\n",
    "    return False "
   ]
  },
  {
   "cell_type": "code",
   "execution_count": 90,
   "metadata": {},
   "outputs": [],
   "source": [
    "def bpcp_solver(L1,L2,K):  \n",
    "    if cartesian(L1,L2,K):\n",
    "        return True   \n",
    "    else:\n",
    "        return False       "
   ]
  },
  {
   "cell_type": "markdown",
   "metadata": {},
   "source": [
    "<b>Test"
   ]
  },
  {
   "cell_type": "code",
   "execution_count": 124,
   "metadata": {},
   "outputs": [],
   "source": [
    "L1 = ['a', 'ab', 'bba']\n",
    "L2 = ['baa', 'aa', 'bb']\n",
    "L3 = ['aa', 'bb', 'abb']\n",
    "L4 = ['aab', 'ba', 'b']"
   ]
  },
  {
   "cell_type": "code",
   "execution_count": 125,
   "metadata": {},
   "outputs": [
    {
     "name": "stdout",
     "output_type": "stream",
     "text": [
      "['a', 'ab', 'bba'] = ['baa', 'aa', 'bb']\n",
      "Solution of max length 4 found.\n",
      "True\n"
     ]
    }
   ],
   "source": [
    "print(bpcp_solver(L1, L2, 4))"
   ]
  },
  {
   "cell_type": "code",
   "execution_count": 126,
   "metadata": {},
   "outputs": [
    {
     "name": "stdout",
     "output_type": "stream",
     "text": [
      "['aa', 'bb', 'abb'] != ['aab', 'ba', 'b']\n",
      "Solution of max length 2 not found.\n",
      "False\n"
     ]
    }
   ],
   "source": [
    "print(bpcp_solver(L3, L4, 2))\n"
   ]
  },
  {
   "cell_type": "markdown",
   "metadata": {},
   "source": [
    "### Itertools"
   ]
  },
  {
   "cell_type": "code",
   "execution_count": 63,
   "metadata": {},
   "outputs": [],
   "source": [
    "# A very useful module in the Python standard library.\n",
    "import itertools as it"
   ]
  },
  {
   "cell_type": "code",
   "execution_count": 64,
   "metadata": {},
   "outputs": [
    {
     "data": {
      "text/plain": [
       "[('A', 'B', 'C'),\n",
       " ('A', 'C', 'B'),\n",
       " ('B', 'A', 'C'),\n",
       " ('B', 'C', 'A'),\n",
       " ('C', 'A', 'B'),\n",
       " ('C', 'B', 'A')]"
      ]
     },
     "execution_count": 64,
     "metadata": {},
     "output_type": "execute_result"
    }
   ],
   "source": [
    "# Permutations.\n",
    "list(it.permutations('ABC'))"
   ]
  },
  {
   "cell_type": "code",
   "execution_count": 65,
   "metadata": {},
   "outputs": [
    {
     "data": {
      "text/plain": [
       "[('A', 'B'), ('A', 'C'), ('B', 'C')]"
      ]
     },
     "execution_count": 65,
     "metadata": {},
     "output_type": "execute_result"
    }
   ],
   "source": [
    "list(it.combinations('ABC', 2))"
   ]
  },
  {
   "cell_type": "code",
   "execution_count": 66,
   "metadata": {},
   "outputs": [
    {
     "data": {
      "text/plain": [
       "[('A', 'A'),\n",
       " ('A', 'B'),\n",
       " ('A', 'C'),\n",
       " ('A', 'D'),\n",
       " ('B', 'A'),\n",
       " ('B', 'B'),\n",
       " ('B', 'C'),\n",
       " ('B', 'D'),\n",
       " ('C', 'A'),\n",
       " ('C', 'B'),\n",
       " ('C', 'C'),\n",
       " ('C', 'D'),\n",
       " ('D', 'A'),\n",
       " ('D', 'B'),\n",
       " ('D', 'C'),\n",
       " ('D', 'D')]"
      ]
     },
     "execution_count": 66,
     "metadata": {},
     "output_type": "execute_result"
    }
   ],
   "source": [
    "list(it.product('ABCD', 'ABCD'))"
   ]
  },
  {
   "cell_type": "code",
   "execution_count": 80,
   "metadata": {},
   "outputs": [
    {
     "data": {
      "text/plain": [
       "[(0, 0, 0),\n",
       " (0, 0, 1),\n",
       " (0, 1, 0),\n",
       " (0, 1, 1),\n",
       " (1, 0, 0),\n",
       " (1, 0, 1),\n",
       " (1, 1, 0),\n",
       " (1, 1, 1)]"
      ]
     },
     "execution_count": 80,
     "metadata": {},
     "output_type": "execute_result"
    }
   ],
   "source": [
    "list(it.product(range(len(L1)), range(len(L1)), range(len(L1))))"
   ]
  },
  {
   "cell_type": "code",
   "execution_count": 81,
   "metadata": {},
   "outputs": [
    {
     "name": "stdout",
     "output_type": "stream",
     "text": [
      "(0,)\n",
      "(1,)\n",
      "(0, 0)\n",
      "(0, 1)\n",
      "(1, 0)\n",
      "(1, 1)\n",
      "(0, 0, 0)\n",
      "(0, 0, 1)\n",
      "(0, 1, 0)\n",
      "(0, 1, 1)\n",
      "(1, 0, 0)\n",
      "(1, 0, 1)\n",
      "(1, 1, 0)\n",
      "(1, 1, 1)\n",
      "(0, 0, 0, 0)\n",
      "(0, 0, 0, 1)\n",
      "(0, 0, 1, 0)\n",
      "(0, 0, 1, 1)\n",
      "(0, 1, 0, 0)\n",
      "(0, 1, 0, 1)\n",
      "(0, 1, 1, 0)\n",
      "(0, 1, 1, 1)\n",
      "(1, 0, 0, 0)\n",
      "(1, 0, 0, 1)\n",
      "(1, 0, 1, 0)\n",
      "(1, 0, 1, 1)\n",
      "(1, 1, 0, 0)\n",
      "(1, 1, 0, 1)\n",
      "(1, 1, 1, 0)\n",
      "(1, 1, 1, 1)\n"
     ]
    }
   ],
   "source": [
    "# The bound for the bounded problem.\n",
    "K = 4\n",
    "\n",
    "# The generators.\n",
    "gens = []\n",
    "\n",
    "# Loop through all possible solutions.\n",
    "for i in range(1, K + 1):\n",
    "    # Create a generator for solutions of length i, append it to gens.\n",
    "    gens.append(it.product(*([range(len(L1))] * i)))\n",
    "\n",
    "# it.chain just chains generators together.\n",
    "for solution in it.chain(*gens):\n",
    "  print(solution)"
   ]
  },
  {
   "cell_type": "code",
   "execution_count": 69,
   "metadata": {},
   "outputs": [
    {
     "name": "stdout",
     "output_type": "stream",
     "text": [
      "[1, 2, 3]\n"
     ]
    }
   ],
   "source": [
    "# Print a list of three elements.\n",
    "print([1,2,3])"
   ]
  },
  {
   "cell_type": "code",
   "execution_count": 70,
   "metadata": {},
   "outputs": [
    {
     "name": "stdout",
     "output_type": "stream",
     "text": [
      "1 2 3\n"
     ]
    }
   ],
   "source": [
    "# Print the elements of the list - print gets three parameters/arguments.\n",
    "print(*[1,2,3])"
   ]
  },
  {
   "cell_type": "markdown",
   "metadata": {},
   "source": [
    "### Reference"
   ]
  },
  {
   "cell_type": "markdown",
   "metadata": {},
   "source": [
    "- https://www.geeksforgeeks.org/post-correspondence-problem/#:~:text=Post%20Correspondence%20Problem%20is%20a,as%20string%20made%20by%20Denominators.\n",
    "- https://link.springer.com/chapter/10.1007/978-3-030-81508-0_8\n",
    "- https://www.tutorialspoint.com/automata_theory/post_correspondence_problem.htm\n",
    "- https://www.interviewbit.com/blog/post-correspondence-problem/\n",
    "- https://en.wikipedia.org/wiki/Post_correspondence_problem\n",
    "- https://www.geeksforgeeks.org/decidable-and-undecidable-problems-in-theory-of-computation/\n",
    "- http://www.cs.ecu.edu/karl/6420/spr16/Notes/Reduction/pcp.html\n",
    "- https://en-academic.com/dic.nsf/enwiki/40749\n",
    "- https://github.com/ianmcloughlin/post_correspondence/blob/main/post_correspondence.ipynb\n",
    "- https://realpython.com/python-itertools/"
   ]
  }
 ],
 "metadata": {
  "kernelspec": {
   "display_name": "Python 3",
   "language": "python",
   "name": "python3"
  },
  "language_info": {
   "codemirror_mode": {
    "name": "ipython",
    "version": 3
   },
   "file_extension": ".py",
   "mimetype": "text/x-python",
   "name": "python",
   "nbconvert_exporter": "python",
   "pygments_lexer": "ipython3",
   "version": "3.8.5"
  }
 },
 "nbformat": 4,
 "nbformat_minor": 4
}
